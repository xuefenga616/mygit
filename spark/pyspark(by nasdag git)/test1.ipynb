{
 "cells": [
  {
   "cell_type": "markdown",
   "metadata": {},
   "source": [
    "### Check the headers of the csv files"
   ]
  },
  {
   "cell_type": "code",
   "execution_count": 1,
   "metadata": {
    "collapsed": false
   },
   "outputs": [
    {
     "name": "stdout",
     "output_type": "stream",
     "text": [
      "playerID\r\n",
      "birthYear\r\n",
      "birthMonth\r\n",
      "birthDay\r\n",
      "birthCountry\r\n",
      "birthState\r\n",
      "birthCity\r\n",
      "deathYear\r\n",
      "deathMonth\r\n",
      "deathDay\r\n",
      "deathCountry\r\n",
      "deathState\r\n",
      "deathCity\r\n",
      "nameFirst\r\n",
      "nameLast\r\n",
      "nameGiven\r\n",
      "weight\r\n",
      "height\r\n",
      "bats\r\n",
      "throws\r\n",
      "debut\r\n",
      "finalGame\r\n",
      "retroID\r\n",
      "bbrefID\r",
      "\r\n"
     ]
    }
   ],
   "source": [
    "! head -n 1 Master.csv | tr ',' '\\n'\n",
    "#! head -n 1 Salaries.csv | tr ',' '\\n'"
   ]
  },
  {
   "cell_type": "markdown",
   "metadata": {},
   "source": [
    "### Check the content of the csv files"
   ]
  },
  {
   "cell_type": "code",
   "execution_count": 2,
   "metadata": {
    "collapsed": false
   },
   "outputs": [
    {
     "name": "stdout",
     "output_type": "stream",
     "text": [
      "aardsda01,1981,12,27,USA,CO,Denver,,,,,,,David,Aardsma,David Allan,205,75,R,R,2004-04-06,2013-09-28,aardd001,aardsda01\r",
      "\r\n",
      "aaronha01,1934,2,5,USA,AL,Mobile,,,,,,,Hank,Aaron,Henry Louis,180,72,R,R,1954-04-13,1976-10-03,aaroh101,aaronha01\r",
      "\r\n",
      "aaronto01,1939,8,5,USA,AL,Mobile,1984,8,16,USA,GA,Atlanta,Tommie,Aaron,Tommie Lee,190,75,R,R,1962-04-10,1971-09-26,aarot101,aaronto01\r",
      "\r\n",
      "aasedo01,1954,9,8,USA,CA,Orange,,,,,,,Don,Aase,Donald William,190,75,R,R,1977-07-26,1990-10-03,aased001,aasedo01\r",
      "\r\n",
      "abadan01,1972,8,25,USA,FL,Palm Beach,,,,,,,Andy,Abad,Fausto Andres,184,73,L,L,2001-09-10,2006-04-13,abada001,abadan01\r",
      "\r\n",
      "tail: error writing ‘standard output’: Broken pipe\r\n"
     ]
    }
   ],
   "source": [
    "! tail -n +2  Master.csv | head -5\n",
    "#! tail -n +2  Salaries.csv | head -5"
   ]
  },
  {
   "cell_type": "markdown",
   "metadata": {},
   "source": [
    "### Extract the data without the headers"
   ]
  },
  {
   "cell_type": "code",
   "execution_count": 3,
   "metadata": {
    "collapsed": true
   },
   "outputs": [],
   "source": [
    "! tail -n +2 Master.csv > Master2.csv\n",
    "! tail -n +2 Salaries.csv > Salaries2.csv"
   ]
  },
  {
   "cell_type": "markdown",
   "metadata": {},
   "source": [
    "### Put it in HDFS"
   ]
  },
  {
   "cell_type": "code",
   "execution_count": 4,
   "metadata": {
    "collapsed": true
   },
   "outputs": [],
   "source": [
    "! hdfs dfs -mkdir -p /user/nasdag/baseball"
   ]
  },
  {
   "cell_type": "code",
   "execution_count": 5,
   "metadata": {
    "collapsed": false
   },
   "outputs": [],
   "source": [
    "! hdfs dfs -put Master2.csv /user/nasdag/baseball\n",
    "! hdfs dfs -put Salaries2.csv /user/nasdag/baseball"
   ]
  },
  {
   "cell_type": "markdown",
   "metadata": {},
   "source": [
    "### Connect to Hive through JDBC"
   ]
  },
  {
   "cell_type": "code",
   "execution_count": 6,
   "metadata": {
    "collapsed": false
   },
   "outputs": [],
   "source": [
    "import pyhs2"
   ]
  },
  {
   "cell_type": "code",
   "execution_count": 7,
   "metadata": {
    "collapsed": false
   },
   "outputs": [],
   "source": [
    "conn = pyhs2.connect(host='localhost',\n",
    "                   port=10000,\n",
    "                   authMechanism=\"PLAIN\",\n",
    "                   user='nasdag',\n",
    "                   password='',\n",
    "                   database='default')\n",
    "cur = conn.cursor()"
   ]
  },
  {
   "cell_type": "code",
   "execution_count": 8,
   "metadata": {
    "collapsed": false
   },
   "outputs": [],
   "source": [
    "cur.execute(\"drop table Master\")\n",
    "cur.execute(\"drop table Salaries\")"
   ]
  },
  {
   "cell_type": "code",
   "execution_count": 9,
   "metadata": {
    "collapsed": false
   },
   "outputs": [],
   "source": [
    "cur.execute(\"\"\"CREATE TABLE IF NOT EXISTS Master\n",
    "      (playerID STRING,\n",
    "      birthYear INT,\n",
    "      birthMonth INT,\n",
    "      birthDay INT,\n",
    "      birthCountry STRING,\n",
    "      birthState STRING,\n",
    "      birthCity STRING,\n",
    "      deathYear INT,\n",
    "      deathMonth INT,\n",
    "      deathDay INT,\n",
    "      deathCountry STRING,\n",
    "      deathState STRING,\n",
    "      deathCity STRING,\n",
    "      nameFirst STRING,\n",
    "      nameLast STRING,\n",
    "      nameGiven STRING,\n",
    "      weight INT,\n",
    "      height INT,\n",
    "      bats STRING,\n",
    "      throws STRING,\n",
    "      debut STRING,\n",
    "      finalGame STRING,\n",
    "      retroID STRING,\n",
    "      bbrefID STRING)\n",
    "      COMMENT 'Master Player Table'\n",
    "      ROW FORMAT DELIMITED\n",
    "      FIELDS TERMINATED BY ','\n",
    "      STORED AS TEXTFILE\"\"\")"
   ]
  },
  {
   "cell_type": "code",
   "execution_count": 10,
   "metadata": {
    "collapsed": false
   },
   "outputs": [],
   "source": [
    "cur.execute(\"\"\"CREATE TABLE IF NOT EXISTS Salaries                                                \n",
    "      (yearID INT, teamID STRING, lgID STRING, playerID STRING, salary INT)              \n",
    "      COMMENT 'Salary Table for Players'                                                 \n",
    "      ROW FORMAT DELIMITED                                                               \n",
    "      FIELDS TERMINATED BY ','                                                           \n",
    "      STORED AS TEXTFILE\"\"\")"
   ]
  },
  {
   "cell_type": "code",
   "execution_count": 11,
   "metadata": {
    "collapsed": false
   },
   "outputs": [
    {
     "data": {
      "text/plain": [
       "[{'columnName': 'playerid', 'comment': '', 'type': 'STRING_TYPE'},\n",
       " {'columnName': 'birthyear', 'comment': '', 'type': 'INT_TYPE'},\n",
       " {'columnName': 'birthmonth', 'comment': '', 'type': 'INT_TYPE'},\n",
       " {'columnName': 'birthday', 'comment': '', 'type': 'INT_TYPE'},\n",
       " {'columnName': 'birthcountry', 'comment': '', 'type': 'STRING_TYPE'},\n",
       " {'columnName': 'birthstate', 'comment': '', 'type': 'STRING_TYPE'},\n",
       " {'columnName': 'birthcity', 'comment': '', 'type': 'STRING_TYPE'},\n",
       " {'columnName': 'deathyear', 'comment': '', 'type': 'INT_TYPE'},\n",
       " {'columnName': 'deathmonth', 'comment': '', 'type': 'INT_TYPE'},\n",
       " {'columnName': 'deathday', 'comment': '', 'type': 'INT_TYPE'},\n",
       " {'columnName': 'deathcountry', 'comment': '', 'type': 'STRING_TYPE'},\n",
       " {'columnName': 'deathstate', 'comment': '', 'type': 'STRING_TYPE'},\n",
       " {'columnName': 'deathcity', 'comment': '', 'type': 'STRING_TYPE'},\n",
       " {'columnName': 'namefirst', 'comment': '', 'type': 'STRING_TYPE'},\n",
       " {'columnName': 'namelast', 'comment': '', 'type': 'STRING_TYPE'},\n",
       " {'columnName': 'namegiven', 'comment': '', 'type': 'STRING_TYPE'},\n",
       " {'columnName': 'weight', 'comment': '', 'type': 'INT_TYPE'},\n",
       " {'columnName': 'height', 'comment': '', 'type': 'INT_TYPE'},\n",
       " {'columnName': 'bats', 'comment': '', 'type': 'STRING_TYPE'},\n",
       " {'columnName': 'throws', 'comment': '', 'type': 'STRING_TYPE'},\n",
       " {'columnName': 'debut', 'comment': '', 'type': 'STRING_TYPE'},\n",
       " {'columnName': 'finalgame', 'comment': '', 'type': 'STRING_TYPE'},\n",
       " {'columnName': 'retroid', 'comment': '', 'type': 'STRING_TYPE'},\n",
       " {'columnName': 'bbrefid', 'comment': '', 'type': 'STRING_TYPE'}]"
      ]
     },
     "execution_count": 11,
     "metadata": {},
     "output_type": "execute_result"
    }
   ],
   "source": [
    "cur.execute(\"select * from default.master\")\n",
    "cur.getSchema()"
   ]
  },
  {
   "cell_type": "markdown",
   "metadata": {},
   "source": [
    "### Load the data into Hive"
   ]
  },
  {
   "cell_type": "code",
   "execution_count": 12,
   "metadata": {
    "collapsed": false
   },
   "outputs": [],
   "source": [
    "cur.execute(\"LOAD DATA INPATH '/user/nasdag/baseball/Master2.csv' OVERWRITE INTO TABLE Master\")\n",
    "cur.execute(\"LOAD DATA INPATH '/user/nasdag/baseball/Salaries2.csv' OVERWRITE INTO TABLE Salaries\")"
   ]
  },
  {
   "cell_type": "code",
   "execution_count": 13,
   "metadata": {
    "collapsed": false
   },
   "outputs": [
    {
     "name": "stdout",
     "output_type": "stream",
     "text": [
      "[18354]\n"
     ]
    }
   ],
   "source": [
    "cur.execute(\"SELECT COUNT(playerid) FROM Master\")\n",
    "for i in cur.fetch():\n",
    "    print i\n",
    "    break"
   ]
  },
  {
   "cell_type": "code",
   "execution_count": 14,
   "metadata": {
    "collapsed": false,
    "scrolled": true
   },
   "outputs": [
    {
     "data": {
      "text/html": [
       "<div style=\"max-height:1000px;max-width:1500px;overflow:auto;\">\n",
       "<table border=\"1\" class=\"dataframe\">\n",
       "  <thead>\n",
       "    <tr style=\"text-align: right;\">\n",
       "      <th></th>\n",
       "      <th>0</th>\n",
       "      <th>1</th>\n",
       "    </tr>\n",
       "  </thead>\n",
       "  <tbody>\n",
       "    <tr>\n",
       "      <th>127</th>\n",
       "      <td> 127</td>\n",
       "      <td> 1</td>\n",
       "    </tr>\n",
       "    <tr>\n",
       "      <th>128</th>\n",
       "      <td> 128</td>\n",
       "      <td> 1</td>\n",
       "    </tr>\n",
       "    <tr>\n",
       "      <th>129</th>\n",
       "      <td> 132</td>\n",
       "      <td> 1</td>\n",
       "    </tr>\n",
       "    <tr>\n",
       "      <th>130</th>\n",
       "      <td> 133</td>\n",
       "      <td> 1</td>\n",
       "    </tr>\n",
       "    <tr>\n",
       "      <th>131</th>\n",
       "      <td> 134</td>\n",
       "      <td> 1</td>\n",
       "    </tr>\n",
       "  </tbody>\n",
       "</table>\n",
       "</div>"
      ],
      "text/plain": [
       "       0  1\n",
       "127  127  1\n",
       "128  128  1\n",
       "129  132  1\n",
       "130  133  1\n",
       "131  134  1"
      ]
     },
     "execution_count": 14,
     "metadata": {},
     "output_type": "execute_result"
    }
   ],
   "source": [
    "import pandas as pd\n",
    "cur.execute(\"SELECT weight, count(playerID) Qty FROM Master GROUP BY weight ORDER BY Qty DESC\")\n",
    "pd.DataFrame(cur.fetchall()).tail()"
   ]
  },
  {
   "cell_type": "code",
   "execution_count": 15,
   "metadata": {
    "collapsed": false
   },
   "outputs": [
    {
     "data": {
      "text/html": [
       "<div style=\"max-height:1000px;max-width:1500px;overflow:auto;\">\n",
       "<table border=\"1\" class=\"dataframe\">\n",
       "  <thead>\n",
       "    <tr style=\"text-align: right;\">\n",
       "      <th></th>\n",
       "      <th>0</th>\n",
       "      <th>1</th>\n",
       "      <th>2</th>\n",
       "      <th>3</th>\n",
       "      <th>4</th>\n",
       "    </tr>\n",
       "  </thead>\n",
       "  <tbody>\n",
       "    <tr>\n",
       "      <th>101</th>\n",
       "      <td> 2002</td>\n",
       "      <td> Calvin</td>\n",
       "      <td> Pickering</td>\n",
       "      <td> 283</td>\n",
       "      <td> 200000</td>\n",
       "    </tr>\n",
       "    <tr>\n",
       "      <th>102</th>\n",
       "      <td> 2002</td>\n",
       "      <td>    Jon</td>\n",
       "      <td>     Rauch</td>\n",
       "      <td> 290</td>\n",
       "      <td> 200000</td>\n",
       "    </tr>\n",
       "    <tr>\n",
       "      <th>103</th>\n",
       "      <td> 2002</td>\n",
       "      <td> Carlos</td>\n",
       "      <td>     Silva</td>\n",
       "      <td> 280</td>\n",
       "      <td> 200000</td>\n",
       "    </tr>\n",
       "    <tr>\n",
       "      <th>104</th>\n",
       "      <td> 1997</td>\n",
       "      <td> Dmitri</td>\n",
       "      <td>     Young</td>\n",
       "      <td> 295</td>\n",
       "      <td> 155000</td>\n",
       "    </tr>\n",
       "    <tr>\n",
       "      <th>105</th>\n",
       "      <td> 1996</td>\n",
       "      <td> Dmitri</td>\n",
       "      <td>     Young</td>\n",
       "      <td> 295</td>\n",
       "      <td> 109000</td>\n",
       "    </tr>\n",
       "  </tbody>\n",
       "</table>\n",
       "</div>"
      ],
      "text/plain": [
       "        0       1          2    3       4\n",
       "101  2002  Calvin  Pickering  283  200000\n",
       "102  2002     Jon      Rauch  290  200000\n",
       "103  2002  Carlos      Silva  280  200000\n",
       "104  1997  Dmitri      Young  295  155000\n",
       "105  1996  Dmitri      Young  295  109000"
      ]
     },
     "execution_count": 15,
     "metadata": {},
     "output_type": "execute_result"
    }
   ],
   "source": [
    "cur = conn.cursor()\n",
    "cur.execute(\"\"\"SELECT Salaries.yearID, Master.nameFirst, Master.nameLast, Master.weight, Salaries.salary \n",
    "               FROM Master JOIN Salaries ON (Master.playerID = Salaries.playerID) WHERE Master.weight > 270\n",
    "               ORDER BY salary DESC\"\"\")\n",
    "pd.DataFrame(cur.fetchall()).tail()"
   ]
  },
  {
   "cell_type": "code",
   "execution_count": 16,
   "metadata": {
    "collapsed": false
   },
   "outputs": [
    {
     "data": {
      "text/html": [
       "<div style=\"max-height:1000px;max-width:1500px;overflow:auto;\">\n",
       "<table border=\"1\" class=\"dataframe\">\n",
       "  <thead>\n",
       "    <tr style=\"text-align: right;\">\n",
       "      <th></th>\n",
       "      <th>0</th>\n",
       "      <th>1</th>\n",
       "      <th>2</th>\n",
       "      <th>3</th>\n",
       "      <th>4</th>\n",
       "      <th>5</th>\n",
       "      <th>6</th>\n",
       "      <th>7</th>\n",
       "      <th>8</th>\n",
       "      <th>9</th>\n",
       "      <th>...</th>\n",
       "      <th>14</th>\n",
       "      <th>15</th>\n",
       "      <th>16</th>\n",
       "      <th>17</th>\n",
       "      <th>18</th>\n",
       "      <th>19</th>\n",
       "      <th>20</th>\n",
       "      <th>21</th>\n",
       "      <th>22</th>\n",
       "      <th>23</th>\n",
       "    </tr>\n",
       "  </thead>\n",
       "  <tbody>\n",
       "    <tr>\n",
       "      <th>18349</th>\n",
       "      <td> zupcibo01</td>\n",
       "      <td> 1966</td>\n",
       "      <td>  8</td>\n",
       "      <td> 18</td>\n",
       "      <td> USA</td>\n",
       "      <td> PA</td>\n",
       "      <td>    Pittsburgh</td>\n",
       "      <td>  NaN</td>\n",
       "      <td>NaN</td>\n",
       "      <td>NaN</td>\n",
       "      <td>...</td>\n",
       "      <td>   Zupcic</td>\n",
       "      <td>          Robert</td>\n",
       "      <td> 220</td>\n",
       "      <td> 76</td>\n",
       "      <td> R</td>\n",
       "      <td> R</td>\n",
       "      <td> 1991-09-07</td>\n",
       "      <td> 1994-08-04</td>\n",
       "      <td> zupcb001</td>\n",
       "      <td> zupcibo01</td>\n",
       "    </tr>\n",
       "    <tr>\n",
       "      <th>18350</th>\n",
       "      <td>  zupofr01</td>\n",
       "      <td> 1939</td>\n",
       "      <td>  8</td>\n",
       "      <td> 29</td>\n",
       "      <td> USA</td>\n",
       "      <td> CA</td>\n",
       "      <td> San Francisco</td>\n",
       "      <td> 2005</td>\n",
       "      <td>  3</td>\n",
       "      <td> 25</td>\n",
       "      <td>...</td>\n",
       "      <td>     Zupo</td>\n",
       "      <td>    Frank Joseph</td>\n",
       "      <td> 182</td>\n",
       "      <td> 71</td>\n",
       "      <td> L</td>\n",
       "      <td> R</td>\n",
       "      <td> 1957-07-01</td>\n",
       "      <td> 1961-05-09</td>\n",
       "      <td> zupof101</td>\n",
       "      <td>  zupofr01</td>\n",
       "    </tr>\n",
       "    <tr>\n",
       "      <th>18351</th>\n",
       "      <td> zuvelpa01</td>\n",
       "      <td> 1958</td>\n",
       "      <td> 10</td>\n",
       "      <td> 31</td>\n",
       "      <td> USA</td>\n",
       "      <td> CA</td>\n",
       "      <td>     San Mateo</td>\n",
       "      <td>  NaN</td>\n",
       "      <td>NaN</td>\n",
       "      <td>NaN</td>\n",
       "      <td>...</td>\n",
       "      <td>  Zuvella</td>\n",
       "      <td>            Paul</td>\n",
       "      <td> 173</td>\n",
       "      <td> 72</td>\n",
       "      <td> R</td>\n",
       "      <td> R</td>\n",
       "      <td> 1982-09-04</td>\n",
       "      <td> 1991-05-02</td>\n",
       "      <td> zuvep001</td>\n",
       "      <td> zuvelpa01</td>\n",
       "    </tr>\n",
       "    <tr>\n",
       "      <th>18352</th>\n",
       "      <td> zuverge01</td>\n",
       "      <td> 1924</td>\n",
       "      <td>  8</td>\n",
       "      <td> 20</td>\n",
       "      <td> USA</td>\n",
       "      <td> MI</td>\n",
       "      <td>       Holland</td>\n",
       "      <td>  NaN</td>\n",
       "      <td>NaN</td>\n",
       "      <td>NaN</td>\n",
       "      <td>...</td>\n",
       "      <td> Zuverink</td>\n",
       "      <td>          George</td>\n",
       "      <td> 195</td>\n",
       "      <td> 76</td>\n",
       "      <td> R</td>\n",
       "      <td> R</td>\n",
       "      <td> 1951-04-21</td>\n",
       "      <td> 1959-06-15</td>\n",
       "      <td> zuveg101</td>\n",
       "      <td> zuverge01</td>\n",
       "    </tr>\n",
       "    <tr>\n",
       "      <th>18353</th>\n",
       "      <td> zwilldu01</td>\n",
       "      <td> 1888</td>\n",
       "      <td> 11</td>\n",
       "      <td>  2</td>\n",
       "      <td> USA</td>\n",
       "      <td> MO</td>\n",
       "      <td>     St. Louis</td>\n",
       "      <td> 1978</td>\n",
       "      <td>  3</td>\n",
       "      <td> 27</td>\n",
       "      <td>...</td>\n",
       "      <td> Zwilling</td>\n",
       "      <td> Edward Harrison</td>\n",
       "      <td> 160</td>\n",
       "      <td> 66</td>\n",
       "      <td> L</td>\n",
       "      <td> L</td>\n",
       "      <td> 1910-08-14</td>\n",
       "      <td> 1916-07-12</td>\n",
       "      <td> zwild101</td>\n",
       "      <td> zwilldu01</td>\n",
       "    </tr>\n",
       "  </tbody>\n",
       "</table>\n",
       "<p>5 rows × 24 columns</p>\n",
       "</div>"
      ],
      "text/plain": [
       "              0     1   2   3    4   5              6     7   8   9   \\\n",
       "18349  zupcibo01  1966   8  18  USA  PA     Pittsburgh   NaN NaN NaN   \n",
       "18350   zupofr01  1939   8  29  USA  CA  San Francisco  2005   3  25   \n",
       "18351  zuvelpa01  1958  10  31  USA  CA      San Mateo   NaN NaN NaN   \n",
       "18352  zuverge01  1924   8  20  USA  MI        Holland   NaN NaN NaN   \n",
       "18353  zwilldu01  1888  11   2  USA  MO      St. Louis  1978   3  27   \n",
       "\n",
       "         ...            14               15   16  17 18 19          20  \\\n",
       "18349    ...        Zupcic           Robert  220  76  R  R  1991-09-07   \n",
       "18350    ...          Zupo     Frank Joseph  182  71  L  R  1957-07-01   \n",
       "18351    ...       Zuvella             Paul  173  72  R  R  1982-09-04   \n",
       "18352    ...      Zuverink           George  195  76  R  R  1951-04-21   \n",
       "18353    ...      Zwilling  Edward Harrison  160  66  L  L  1910-08-14   \n",
       "\n",
       "               21        22         23  \n",
       "18349  1994-08-04  zupcb001  zupcibo01  \n",
       "18350  1961-05-09  zupof101   zupofr01  \n",
       "18351  1991-05-02  zuvep001  zuvelpa01  \n",
       "18352  1959-06-15  zuveg101  zuverge01  \n",
       "18353  1916-07-12  zwild101  zwilldu01  \n",
       "\n",
       "[5 rows x 24 columns]"
      ]
     },
     "execution_count": 16,
     "metadata": {},
     "output_type": "execute_result"
    }
   ],
   "source": [
    "cur = conn.cursor()\n",
    "cur.execute(\"\"\"SELECT * FROM master\"\"\")\n",
    "pd.DataFrame(cur.fetchall()).tail()"
   ]
  },
  {
   "cell_type": "code",
   "execution_count": null,
   "metadata": {
    "collapsed": true
   },
   "outputs": [],
   "source": []
  }
 ],
 "metadata": {
  "kernelspec": {
   "display_name": "Python 2",
   "language": "python",
   "name": "python2"
  },
  "language_info": {
   "codemirror_mode": {
    "name": "ipython",
    "version": 2
   },
   "file_extension": ".py",
   "mimetype": "text/x-python",
   "name": "python",
   "nbconvert_exporter": "python",
   "pygments_lexer": "ipython2",
   "version": "2.7.10"
  }
 },
 "nbformat": 4,
 "nbformat_minor": 0
}
