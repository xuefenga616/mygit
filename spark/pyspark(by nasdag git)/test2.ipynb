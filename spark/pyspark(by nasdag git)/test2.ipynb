{
 "cells": [
  {
   "cell_type": "markdown",
   "metadata": {},
   "source": [
    "### Connect to mysql and check the content of the metastore DB"
   ]
  },
  {
   "cell_type": "code",
   "execution_count": 1,
   "metadata": {
    "collapsed": true
   },
   "outputs": [],
   "source": [
    "import pymysql\n",
    "import pandas as pd"
   ]
  },
  {
   "cell_type": "code",
   "execution_count": 2,
   "metadata": {
    "collapsed": false
   },
   "outputs": [],
   "source": [
    "mysql_user, mysql_password = 'hiveuser', 'hivepassword'\n",
    "cred = '?user=' + mysql_user + '&password=' + mysql_password\n",
    "db = pymysql.connect(host=\"localhost\",\n",
    "                     user='hiveuser',\n",
    "                     passwd='hivepassword',\n",
    "                     database='metastore')"
   ]
  },
  {
   "cell_type": "code",
   "execution_count": 3,
   "metadata": {
    "collapsed": false
   },
   "outputs": [
    {
     "data": {
      "text/html": [
       "<div style=\"max-height:1000px;max-width:1500px;overflow:auto;\">\n",
       "<table border=\"1\" class=\"dataframe\">\n",
       "  <thead>\n",
       "    <tr style=\"text-align: right;\">\n",
       "      <th></th>\n",
       "      <th>Tables_in_metastore</th>\n",
       "    </tr>\n",
       "  </thead>\n",
       "  <tbody>\n",
       "    <tr>\n",
       "      <th>46</th>\n",
       "      <td>  TBL_COL_PRIVS</td>\n",
       "    </tr>\n",
       "    <tr>\n",
       "      <th>47</th>\n",
       "      <td>      TBL_PRIVS</td>\n",
       "    </tr>\n",
       "    <tr>\n",
       "      <th>48</th>\n",
       "      <td>           TXNS</td>\n",
       "    </tr>\n",
       "    <tr>\n",
       "      <th>49</th>\n",
       "      <td> TXN_COMPONENTS</td>\n",
       "    </tr>\n",
       "    <tr>\n",
       "      <th>50</th>\n",
       "      <td>          TYPES</td>\n",
       "    </tr>\n",
       "    <tr>\n",
       "      <th>51</th>\n",
       "      <td>    TYPE_FIELDS</td>\n",
       "    </tr>\n",
       "    <tr>\n",
       "      <th>52</th>\n",
       "      <td>        VERSION</td>\n",
       "    </tr>\n",
       "  </tbody>\n",
       "</table>\n",
       "</div>"
      ],
      "text/plain": [
       "   Tables_in_metastore\n",
       "46       TBL_COL_PRIVS\n",
       "47           TBL_PRIVS\n",
       "48                TXNS\n",
       "49      TXN_COMPONENTS\n",
       "50               TYPES\n",
       "51         TYPE_FIELDS\n",
       "52             VERSION"
      ]
     },
     "execution_count": 3,
     "metadata": {},
     "output_type": "execute_result"
    }
   ],
   "source": [
    "pd.read_sql(\"show tables;\", db).tail(7)"
   ]
  },
  {
   "cell_type": "code",
   "execution_count": 4,
   "metadata": {
    "collapsed": false
   },
   "outputs": [
    {
     "data": {
      "text/html": [
       "<div style=\"max-height:1000px;max-width:1500px;overflow:auto;\">\n",
       "<table border=\"1\" class=\"dataframe\">\n",
       "  <thead>\n",
       "    <tr style=\"text-align: right;\">\n",
       "      <th></th>\n",
       "      <th>TBL_ID</th>\n",
       "      <th>CREATE_TIME</th>\n",
       "      <th>DB_ID</th>\n",
       "      <th>LAST_ACCESS_TIME</th>\n",
       "      <th>OWNER</th>\n",
       "      <th>RETENTION</th>\n",
       "      <th>SD_ID</th>\n",
       "      <th>TBL_NAME</th>\n",
       "      <th>TBL_TYPE</th>\n",
       "      <th>VIEW_EXPANDED_TEXT</th>\n",
       "      <th>VIEW_ORIGINAL_TEXT</th>\n",
       "      <th>LINK_TARGET_ID</th>\n",
       "    </tr>\n",
       "  </thead>\n",
       "  <tbody>\n",
       "    <tr>\n",
       "      <th>0</th>\n",
       "      <td> 1</td>\n",
       "      <td> 1450179061</td>\n",
       "      <td> 1</td>\n",
       "      <td> 0</td>\n",
       "      <td> nasdag</td>\n",
       "      <td> 0</td>\n",
       "      <td> 1</td>\n",
       "      <td>   master</td>\n",
       "      <td> MANAGED_TABLE</td>\n",
       "      <td> None</td>\n",
       "      <td> None</td>\n",
       "      <td> None</td>\n",
       "    </tr>\n",
       "    <tr>\n",
       "      <th>1</th>\n",
       "      <td> 2</td>\n",
       "      <td> 1450179063</td>\n",
       "      <td> 1</td>\n",
       "      <td> 0</td>\n",
       "      <td> nasdag</td>\n",
       "      <td> 0</td>\n",
       "      <td> 2</td>\n",
       "      <td> salaries</td>\n",
       "      <td> MANAGED_TABLE</td>\n",
       "      <td> None</td>\n",
       "      <td> None</td>\n",
       "      <td> None</td>\n",
       "    </tr>\n",
       "  </tbody>\n",
       "</table>\n",
       "</div>"
      ],
      "text/plain": [
       "   TBL_ID  CREATE_TIME  DB_ID  LAST_ACCESS_TIME   OWNER  RETENTION  SD_ID  \\\n",
       "0       1   1450179061      1                 0  nasdag          0      1   \n",
       "1       2   1450179063      1                 0  nasdag          0      2   \n",
       "\n",
       "   TBL_NAME       TBL_TYPE VIEW_EXPANDED_TEXT VIEW_ORIGINAL_TEXT  \\\n",
       "0    master  MANAGED_TABLE               None               None   \n",
       "1  salaries  MANAGED_TABLE               None               None   \n",
       "\n",
       "  LINK_TARGET_ID  \n",
       "0           None  \n",
       "1           None  "
      ]
     },
     "execution_count": 4,
     "metadata": {},
     "output_type": "execute_result"
    }
   ],
   "source": [
    "pd.read_sql(\"select * from TBLS;\", db)"
   ]
  },
  {
   "cell_type": "markdown",
   "metadata": {},
   "source": [
    "### Load the same with Spark"
   ]
  },
  {
   "cell_type": "code",
   "execution_count": 5,
   "metadata": {
    "collapsed": false
   },
   "outputs": [
    {
     "data": {
      "text/plain": [
       "DataFrame[TBL_ID: bigint, CREATE_TIME: int, DB_ID: bigint, LAST_ACCESS_TIME: int, OWNER: string, RETENTION: int, SD_ID: bigint, TBL_NAME: string, TBL_TYPE: string, VIEW_EXPANDED_TEXT: string, VIEW_ORIGINAL_TEXT: string, LINK_TARGET_ID: bigint]"
      ]
     },
     "execution_count": 5,
     "metadata": {},
     "output_type": "execute_result"
    }
   ],
   "source": [
    "import pyspark\n",
    "sc = pyspark.SparkContext()\n",
    "\n",
    "from pyspark.sql import SQLContext\n",
    "sqlContext = SQLContext(sc)\n",
    "df2 = sqlContext.read.format('jdbc').options(url='jdbc:mysql://localhost/metastore'+cred, dbtable='TBLS').load()\n",
    "df2"
   ]
  },
  {
   "cell_type": "code",
   "execution_count": 6,
   "metadata": {
    "collapsed": false
   },
   "outputs": [
    {
     "name": "stdout",
     "output_type": "stream",
     "text": [
      "root\n",
      " |-- TBL_ID: long (nullable = false)\n",
      " |-- CREATE_TIME: integer (nullable = false)\n",
      " |-- DB_ID: long (nullable = true)\n",
      " |-- LAST_ACCESS_TIME: integer (nullable = false)\n",
      " |-- OWNER: string (nullable = true)\n",
      " |-- RETENTION: integer (nullable = false)\n",
      " |-- SD_ID: long (nullable = true)\n",
      " |-- TBL_NAME: string (nullable = true)\n",
      " |-- TBL_TYPE: string (nullable = true)\n",
      " |-- VIEW_EXPANDED_TEXT: string (nullable = true)\n",
      " |-- VIEW_ORIGINAL_TEXT: string (nullable = true)\n",
      " |-- LINK_TARGET_ID: long (nullable = true)\n",
      "\n"
     ]
    }
   ],
   "source": [
    "df2.printSchema()"
   ]
  },
  {
   "cell_type": "code",
   "execution_count": 7,
   "metadata": {
    "collapsed": false
   },
   "outputs": [
    {
     "data": {
      "text/plain": [
       "[Row(TBL_ID=1, CREATE_TIME=1450179061, DB_ID=1, LAST_ACCESS_TIME=0, OWNER=u'nasdag', RETENTION=0, SD_ID=1, TBL_NAME=u'master', TBL_TYPE=u'MANAGED_TABLE', VIEW_EXPANDED_TEXT=None, VIEW_ORIGINAL_TEXT=None, LINK_TARGET_ID=None),\n",
       " Row(TBL_ID=2, CREATE_TIME=1450179063, DB_ID=1, LAST_ACCESS_TIME=0, OWNER=u'nasdag', RETENTION=0, SD_ID=2, TBL_NAME=u'salaries', TBL_TYPE=u'MANAGED_TABLE', VIEW_EXPANDED_TEXT=None, VIEW_ORIGINAL_TEXT=None, LINK_TARGET_ID=None)]"
      ]
     },
     "execution_count": 7,
     "metadata": {},
     "output_type": "execute_result"
    }
   ],
   "source": [
    "df2.collect()"
   ]
  },
  {
   "cell_type": "code",
   "execution_count": 8,
   "metadata": {
    "collapsed": false
   },
   "outputs": [
    {
     "data": {
      "text/html": [
       "<div style=\"max-height:1000px;max-width:1500px;overflow:auto;\">\n",
       "<table border=\"1\" class=\"dataframe\">\n",
       "  <thead>\n",
       "    <tr style=\"text-align: right;\">\n",
       "      <th></th>\n",
       "      <th>TBL_ID</th>\n",
       "      <th>CREATE_TIME</th>\n",
       "      <th>DB_ID</th>\n",
       "      <th>LAST_ACCESS_TIME</th>\n",
       "      <th>OWNER</th>\n",
       "      <th>RETENTION</th>\n",
       "      <th>SD_ID</th>\n",
       "      <th>TBL_NAME</th>\n",
       "      <th>TBL_TYPE</th>\n",
       "      <th>VIEW_EXPANDED_TEXT</th>\n",
       "      <th>VIEW_ORIGINAL_TEXT</th>\n",
       "      <th>LINK_TARGET_ID</th>\n",
       "    </tr>\n",
       "  </thead>\n",
       "  <tbody>\n",
       "    <tr>\n",
       "      <th>0</th>\n",
       "      <td> 1</td>\n",
       "      <td> 1450179061</td>\n",
       "      <td> 1</td>\n",
       "      <td> 0</td>\n",
       "      <td> nasdag</td>\n",
       "      <td> 0</td>\n",
       "      <td> 1</td>\n",
       "      <td>   master</td>\n",
       "      <td> MANAGED_TABLE</td>\n",
       "      <td> None</td>\n",
       "      <td> None</td>\n",
       "      <td> None</td>\n",
       "    </tr>\n",
       "    <tr>\n",
       "      <th>1</th>\n",
       "      <td> 2</td>\n",
       "      <td> 1450179063</td>\n",
       "      <td> 1</td>\n",
       "      <td> 0</td>\n",
       "      <td> nasdag</td>\n",
       "      <td> 0</td>\n",
       "      <td> 2</td>\n",
       "      <td> salaries</td>\n",
       "      <td> MANAGED_TABLE</td>\n",
       "      <td> None</td>\n",
       "      <td> None</td>\n",
       "      <td> None</td>\n",
       "    </tr>\n",
       "  </tbody>\n",
       "</table>\n",
       "</div>"
      ],
      "text/plain": [
       "   TBL_ID  CREATE_TIME  DB_ID  LAST_ACCESS_TIME   OWNER  RETENTION  SD_ID  \\\n",
       "0       1   1450179061      1                 0  nasdag          0      1   \n",
       "1       2   1450179063      1                 0  nasdag          0      2   \n",
       "\n",
       "   TBL_NAME       TBL_TYPE VIEW_EXPANDED_TEXT VIEW_ORIGINAL_TEXT  \\\n",
       "0    master  MANAGED_TABLE               None               None   \n",
       "1  salaries  MANAGED_TABLE               None               None   \n",
       "\n",
       "  LINK_TARGET_ID  \n",
       "0           None  \n",
       "1           None  "
      ]
     },
     "execution_count": 8,
     "metadata": {},
     "output_type": "execute_result"
    }
   ],
   "source": [
    "df2.toPandas()"
   ]
  },
  {
   "cell_type": "markdown",
   "metadata": {},
   "source": [
    "### Write into a csv hdfs file"
   ]
  },
  {
   "cell_type": "code",
   "execution_count": 9,
   "metadata": {
    "collapsed": false,
    "scrolled": true
   },
   "outputs": [
    {
     "name": "stdout",
     "output_type": "stream",
     "text": [
      "Found 2 items\n",
      "-rw-r--r--   1 nasdag supergroup          0 2015-12-15 03:34 test0_metastore_tbls.csv/_SUCCESS\n",
      "-rw-r--r--   1 nasdag supergroup        266 2015-12-15 03:34 test0_metastore_tbls.csv/part-00000\n",
      "TBL_ID;CREATE_TIME;DB_ID;LAST_ACCESS_TIME;OWNER;RETENTION;SD_ID;TBL_NAME;TBL_TYPE;VIEW_EXPANDED_TEXT;VIEW_ORIGINAL_TEXT;LINK_TARGET_ID\n",
      "1;1450179061;1;0;nasdag;0;1;master;MANAGED_TABLE;null;null;null\n",
      "2;1450179063;1;0;nasdag;0;2;salaries;MANAGED_TABLE;null;null;null\n"
     ]
    }
   ],
   "source": [
    "df2.write.format(\"com.databricks.spark.csv\").option(\"header\",\"true\").option(\"delimiter\",\";\").save(\"test0_metastore_tbls.csv\", mode=\"Overwrite\")\n",
    "!hdfs dfs -ls test0_metastore_tbls.csv\n",
    "!hdfs dfs -cat test0_metastore_tbls.csv/*"
   ]
  },
  {
   "cell_type": "code",
   "execution_count": 10,
   "metadata": {
    "collapsed": false
   },
   "outputs": [
    {
     "data": {
      "text/plain": [
       "[Row(TBL_ID=u'1', CREATE_TIME=u'1450179061', DB_ID=u'1', LAST_ACCESS_TIME=u'0', OWNER=u'nasdag', RETENTION=u'0', SD_ID=u'1', TBL_NAME=u'master', TBL_TYPE=u'MANAGED_TABLE', VIEW_EXPANDED_TEXT=u'null', VIEW_ORIGINAL_TEXT=u'null', LINK_TARGET_ID=u'null'),\n",
       " Row(TBL_ID=u'2', CREATE_TIME=u'1450179063', DB_ID=u'1', LAST_ACCESS_TIME=u'0', OWNER=u'nasdag', RETENTION=u'0', SD_ID=u'2', TBL_NAME=u'salaries', TBL_TYPE=u'MANAGED_TABLE', VIEW_EXPANDED_TEXT=u'null', VIEW_ORIGINAL_TEXT=u'null', LINK_TARGET_ID=u'null')]"
      ]
     },
     "execution_count": 10,
     "metadata": {},
     "output_type": "execute_result"
    }
   ],
   "source": [
    "df3 = sqlContext.read.format(\"com.databricks.spark.csv\").option(\"header\",\"true\").option(\"delimiter\",\";\").load(\"test0_metastore_tbls.csv\")\n",
    "df3.registerTempTable(\"tbls\")\n",
    "sqlContext.sql(\"SELECT * FROM tbls\").collect()"
   ]
  },
  {
   "cell_type": "markdown",
   "metadata": {},
   "source": [
    "### and now parquet"
   ]
  },
  {
   "cell_type": "code",
   "execution_count": 11,
   "metadata": {
    "collapsed": false
   },
   "outputs": [
    {
     "name": "stdout",
     "output_type": "stream",
     "text": [
      "Found 5 items\n",
      "-rw-r--r--   1 nasdag supergroup          0 2015-12-15 03:34 test0_metastore_tbls.parquet/_SUCCESS\n",
      "-rw-r--r--   1 nasdag supergroup       1183 2015-12-15 03:34 test0_metastore_tbls.parquet/_common_metadata\n",
      "-rw-r--r--   1 nasdag supergroup       2594 2015-12-15 03:34 test0_metastore_tbls.parquet/_metadata\n",
      "-rw-r--r--   1 nasdag supergroup       1183 2015-12-15 03:34 test0_metastore_tbls.parquet/part-r-00000-fa6cee3f-77fc-47a8-b216-370103090f61.gz.parquet\n",
      "-rw-r--r--   1 nasdag supergroup       2960 2015-12-15 03:34 test0_metastore_tbls.parquet/part-r-00001-fa6cee3f-77fc-47a8-b216-370103090f61.gz.parquet\n",
      "root\n",
      " |-- TBL_ID: string (nullable = true)\n",
      " |-- CREATE_TIME: string (nullable = true)\n",
      " |-- DB_ID: string (nullable = true)\n",
      " |-- LAST_ACCESS_TIME: string (nullable = true)\n",
      " |-- OWNER: string (nullable = true)\n",
      " |-- RETENTION: string (nullable = true)\n",
      " |-- SD_ID: string (nullable = true)\n",
      " |-- TBL_NAME: string (nullable = true)\n",
      " |-- TBL_TYPE: string (nullable = true)\n",
      " |-- VIEW_EXPANDED_TEXT: string (nullable = true)\n",
      " |-- VIEW_ORIGINAL_TEXT: string (nullable = true)\n",
      " |-- LINK_TARGET_ID: string (nullable = true)\n",
      "\n"
     ]
    }
   ],
   "source": [
    "df3.write.save(\"test0_metastore_tbls.parquet\", format=\"parquet\", mode=\"Overwrite\")\n",
    "!hdfs dfs -ls test0_metastore_tbls.parquet\n",
    "df3.printSchema()"
   ]
  },
  {
   "cell_type": "code",
   "execution_count": 12,
   "metadata": {
    "collapsed": false
   },
   "outputs": [
    {
     "name": "stdout",
     "output_type": "stream",
     "text": [
      "root\n",
      " |-- TBL_ID: long (nullable = true)\n",
      " |-- CREATE_TIME: integer (nullable = true)\n",
      " |-- DB_ID: long (nullable = true)\n",
      " |-- LAST_ACCESS_TIME: integer (nullable = true)\n",
      " |-- OWNER: string (nullable = true)\n",
      " |-- RETENTION: integer (nullable = true)\n",
      " |-- SD_ID: long (nullable = true)\n",
      " |-- TBL_NAME: string (nullable = true)\n",
      " |-- TBL_TYPE: string (nullable = true)\n",
      " |-- VIEW_EXPANDED_TEXT: string (nullable = true)\n",
      " |-- VIEW_ORIGINAL_TEXT: string (nullable = true)\n",
      " |-- LINK_TARGET_ID: long (nullable = true)\n",
      "\n"
     ]
    }
   ],
   "source": [
    "df2.write.save(\"test0_metastore_tbls.parquet\", format=\"parquet\", mode=\"Overwrite\")\n",
    "df4 = sqlContext.read.parquet(\"test0_metastore_tbls.parquet\")\n",
    "df4.printSchema()"
   ]
  },
  {
   "cell_type": "code",
   "execution_count": 13,
   "metadata": {
    "collapsed": false
   },
   "outputs": [
    {
     "name": "stdout",
     "output_type": "stream",
     "text": [
      "15/12/15 03:35:07 INFO fs.TrashPolicyDefault: Namenode trash configuration: Deletion interval = 0 minutes, Emptier interval = 0 minutes.\n",
      "Deleted test0_metastore_tbls.csv\n",
      "15/12/15 03:35:10 INFO fs.TrashPolicyDefault: Namenode trash configuration: Deletion interval = 0 minutes, Emptier interval = 0 minutes.\n",
      "Deleted test0_metastore_tbls.parquet\n"
     ]
    }
   ],
   "source": [
    "!hdfs dfs -rm -r test0_metastore_tbls.csv\n",
    "!hdfs dfs -rm -r test0_metastore_tbls.parquet"
   ]
  },
  {
   "cell_type": "markdown",
   "metadata": {},
   "source": [
    "### Connect through JDBC and HiveContext"
   ]
  },
  {
   "cell_type": "code",
   "execution_count": 14,
   "metadata": {
    "collapsed": true
   },
   "outputs": [],
   "source": [
    "import pyhs2"
   ]
  },
  {
   "cell_type": "code",
   "execution_count": 15,
   "metadata": {
    "collapsed": false
   },
   "outputs": [],
   "source": [
    "conn = pyhs2.connect(host='localhost',\n",
    "                   port=10000,\n",
    "                   authMechanism=\"PLAIN\",\n",
    "                   user='nasdag',\n",
    "                   password='',\n",
    "                   database='default')"
   ]
  },
  {
   "cell_type": "code",
   "execution_count": 16,
   "metadata": {
    "collapsed": false
   },
   "outputs": [
    {
     "data": {
      "text/html": [
       "<div style=\"max-height:1000px;max-width:1500px;overflow:auto;\">\n",
       "<table border=\"1\" class=\"dataframe\">\n",
       "  <thead>\n",
       "    <tr style=\"text-align: right;\">\n",
       "      <th></th>\n",
       "      <th>0</th>\n",
       "      <th>1</th>\n",
       "    </tr>\n",
       "  </thead>\n",
       "  <tbody>\n",
       "    <tr>\n",
       "      <th>0</th>\n",
       "      <td>   master</td>\n",
       "      <td> False</td>\n",
       "    </tr>\n",
       "    <tr>\n",
       "      <th>1</th>\n",
       "      <td> salaries</td>\n",
       "      <td> False</td>\n",
       "    </tr>\n",
       "  </tbody>\n",
       "</table>\n",
       "</div>"
      ],
      "text/plain": [
       "          0      1\n",
       "0    master  False\n",
       "1  salaries  False"
      ]
     },
     "execution_count": 16,
     "metadata": {},
     "output_type": "execute_result"
    }
   ],
   "source": [
    "cur = conn.cursor()\n",
    "cur.execute(\"show tables\")\n",
    "pd.DataFrame(cur.fetchall())"
   ]
  },
  {
   "cell_type": "code",
   "execution_count": 17,
   "metadata": {
    "collapsed": false
   },
   "outputs": [],
   "source": [
    "#cur = conn.cursor()\n",
    "#cur.execute(\"drop table master\")"
   ]
  },
  {
   "cell_type": "code",
   "execution_count": 18,
   "metadata": {
    "collapsed": false
   },
   "outputs": [],
   "source": [
    "cur = conn.cursor()\n",
    "cur.execute(\"\"\"CREATE TABLE IF NOT EXISTS Master\n",
    "      (playerID STRING,\n",
    "      birthYear INT,\n",
    "      birthMonth INT,\n",
    "      birthDay INT,\n",
    "      birthCountry STRING,\n",
    "      birthState STRING,\n",
    "      birthCity STRING,\n",
    "      deathYear INT,\n",
    "      deathMonth INT,\n",
    "      deathDay INT,\n",
    "      deathCountry STRING,\n",
    "      deathState STRING,\n",
    "      deathCity STRING,\n",
    "      nameFirst STRING,\n",
    "      nameLast STRING,\n",
    "      nameGiven STRING,\n",
    "      weight INT,\n",
    "      height INT,\n",
    "      bats STRING,\n",
    "      throws STRING,\n",
    "      debut STRING,\n",
    "      finalGame STRING,\n",
    "      retroID STRING,\n",
    "      bbrefID STRING)\n",
    "      COMMENT 'Master Player Table'\n",
    "      ROW FORMAT DELIMITED\n",
    "      FIELDS TERMINATED BY ','\n",
    "      STORED AS TEXTFILE\"\"\")"
   ]
  },
  {
   "cell_type": "code",
   "execution_count": 19,
   "metadata": {
    "collapsed": false
   },
   "outputs": [
    {
     "data": {
      "text/html": [
       "<div style=\"max-height:1000px;max-width:1500px;overflow:auto;\">\n",
       "<table border=\"1\" class=\"dataframe\">\n",
       "  <thead>\n",
       "    <tr style=\"text-align: right;\">\n",
       "      <th></th>\n",
       "      <th>0</th>\n",
       "      <th>1</th>\n",
       "      <th>2</th>\n",
       "    </tr>\n",
       "  </thead>\n",
       "  <tbody>\n",
       "    <tr>\n",
       "      <th>0 </th>\n",
       "      <td>     playerid</td>\n",
       "      <td> string</td>\n",
       "      <td> None</td>\n",
       "    </tr>\n",
       "    <tr>\n",
       "      <th>1 </th>\n",
       "      <td>    birthyear</td>\n",
       "      <td>    int</td>\n",
       "      <td> None</td>\n",
       "    </tr>\n",
       "    <tr>\n",
       "      <th>2 </th>\n",
       "      <td>   birthmonth</td>\n",
       "      <td>    int</td>\n",
       "      <td> None</td>\n",
       "    </tr>\n",
       "    <tr>\n",
       "      <th>3 </th>\n",
       "      <td>     birthday</td>\n",
       "      <td>    int</td>\n",
       "      <td> None</td>\n",
       "    </tr>\n",
       "    <tr>\n",
       "      <th>4 </th>\n",
       "      <td> birthcountry</td>\n",
       "      <td> string</td>\n",
       "      <td> None</td>\n",
       "    </tr>\n",
       "    <tr>\n",
       "      <th>5 </th>\n",
       "      <td>   birthstate</td>\n",
       "      <td> string</td>\n",
       "      <td> None</td>\n",
       "    </tr>\n",
       "    <tr>\n",
       "      <th>6 </th>\n",
       "      <td>    birthcity</td>\n",
       "      <td> string</td>\n",
       "      <td> None</td>\n",
       "    </tr>\n",
       "    <tr>\n",
       "      <th>7 </th>\n",
       "      <td>    deathyear</td>\n",
       "      <td>    int</td>\n",
       "      <td> None</td>\n",
       "    </tr>\n",
       "    <tr>\n",
       "      <th>8 </th>\n",
       "      <td>   deathmonth</td>\n",
       "      <td>    int</td>\n",
       "      <td> None</td>\n",
       "    </tr>\n",
       "    <tr>\n",
       "      <th>9 </th>\n",
       "      <td>     deathday</td>\n",
       "      <td>    int</td>\n",
       "      <td> None</td>\n",
       "    </tr>\n",
       "    <tr>\n",
       "      <th>10</th>\n",
       "      <td> deathcountry</td>\n",
       "      <td> string</td>\n",
       "      <td> None</td>\n",
       "    </tr>\n",
       "    <tr>\n",
       "      <th>11</th>\n",
       "      <td>   deathstate</td>\n",
       "      <td> string</td>\n",
       "      <td> None</td>\n",
       "    </tr>\n",
       "    <tr>\n",
       "      <th>12</th>\n",
       "      <td>    deathcity</td>\n",
       "      <td> string</td>\n",
       "      <td> None</td>\n",
       "    </tr>\n",
       "    <tr>\n",
       "      <th>13</th>\n",
       "      <td>    namefirst</td>\n",
       "      <td> string</td>\n",
       "      <td> None</td>\n",
       "    </tr>\n",
       "    <tr>\n",
       "      <th>14</th>\n",
       "      <td>     namelast</td>\n",
       "      <td> string</td>\n",
       "      <td> None</td>\n",
       "    </tr>\n",
       "    <tr>\n",
       "      <th>15</th>\n",
       "      <td>    namegiven</td>\n",
       "      <td> string</td>\n",
       "      <td> None</td>\n",
       "    </tr>\n",
       "    <tr>\n",
       "      <th>16</th>\n",
       "      <td>       weight</td>\n",
       "      <td>    int</td>\n",
       "      <td> None</td>\n",
       "    </tr>\n",
       "    <tr>\n",
       "      <th>17</th>\n",
       "      <td>       height</td>\n",
       "      <td>    int</td>\n",
       "      <td> None</td>\n",
       "    </tr>\n",
       "    <tr>\n",
       "      <th>18</th>\n",
       "      <td>         bats</td>\n",
       "      <td> string</td>\n",
       "      <td> None</td>\n",
       "    </tr>\n",
       "    <tr>\n",
       "      <th>19</th>\n",
       "      <td>       throws</td>\n",
       "      <td> string</td>\n",
       "      <td> None</td>\n",
       "    </tr>\n",
       "    <tr>\n",
       "      <th>20</th>\n",
       "      <td>        debut</td>\n",
       "      <td> string</td>\n",
       "      <td> None</td>\n",
       "    </tr>\n",
       "    <tr>\n",
       "      <th>21</th>\n",
       "      <td>    finalgame</td>\n",
       "      <td> string</td>\n",
       "      <td> None</td>\n",
       "    </tr>\n",
       "    <tr>\n",
       "      <th>22</th>\n",
       "      <td>      retroid</td>\n",
       "      <td> string</td>\n",
       "      <td> None</td>\n",
       "    </tr>\n",
       "    <tr>\n",
       "      <th>23</th>\n",
       "      <td>      bbrefid</td>\n",
       "      <td> string</td>\n",
       "      <td> None</td>\n",
       "    </tr>\n",
       "  </tbody>\n",
       "</table>\n",
       "</div>"
      ],
      "text/plain": [
       "               0       1     2\n",
       "0       playerid  string  None\n",
       "1      birthyear     int  None\n",
       "2     birthmonth     int  None\n",
       "3       birthday     int  None\n",
       "4   birthcountry  string  None\n",
       "5     birthstate  string  None\n",
       "6      birthcity  string  None\n",
       "7      deathyear     int  None\n",
       "8     deathmonth     int  None\n",
       "9       deathday     int  None\n",
       "10  deathcountry  string  None\n",
       "11    deathstate  string  None\n",
       "12     deathcity  string  None\n",
       "13     namefirst  string  None\n",
       "14      namelast  string  None\n",
       "15     namegiven  string  None\n",
       "16        weight     int  None\n",
       "17        height     int  None\n",
       "18          bats  string  None\n",
       "19        throws  string  None\n",
       "20         debut  string  None\n",
       "21     finalgame  string  None\n",
       "22       retroid  string  None\n",
       "23       bbrefid  string  None"
      ]
     },
     "execution_count": 19,
     "metadata": {},
     "output_type": "execute_result"
    }
   ],
   "source": [
    "cur = conn.cursor()\n",
    "cur.execute(\"describe master\")\n",
    "pd.DataFrame(cur.fetchall())"
   ]
  },
  {
   "cell_type": "code",
   "execution_count": 20,
   "metadata": {
    "collapsed": false
   },
   "outputs": [
    {
     "data": {
      "text/html": [
       "<div style=\"max-height:1000px;max-width:1500px;overflow:auto;\">\n",
       "<table border=\"1\" class=\"dataframe\">\n",
       "  <thead>\n",
       "    <tr style=\"text-align: right;\">\n",
       "      <th></th>\n",
       "      <th>0</th>\n",
       "      <th>1</th>\n",
       "      <th>2</th>\n",
       "      <th>3</th>\n",
       "      <th>4</th>\n",
       "      <th>5</th>\n",
       "      <th>6</th>\n",
       "      <th>7</th>\n",
       "      <th>8</th>\n",
       "      <th>9</th>\n",
       "      <th>...</th>\n",
       "      <th>14</th>\n",
       "      <th>15</th>\n",
       "      <th>16</th>\n",
       "      <th>17</th>\n",
       "      <th>18</th>\n",
       "      <th>19</th>\n",
       "      <th>20</th>\n",
       "      <th>21</th>\n",
       "      <th>22</th>\n",
       "      <th>23</th>\n",
       "    </tr>\n",
       "  </thead>\n",
       "  <tbody>\n",
       "    <tr>\n",
       "      <th>0</th>\n",
       "      <td> aardsda01</td>\n",
       "      <td> 1981</td>\n",
       "      <td> 12</td>\n",
       "      <td> 27</td>\n",
       "      <td> USA</td>\n",
       "      <td> CO</td>\n",
       "      <td>     Denver</td>\n",
       "      <td>  NaN</td>\n",
       "      <td>NaN</td>\n",
       "      <td>NaN</td>\n",
       "      <td>...</td>\n",
       "      <td> Aardsma</td>\n",
       "      <td>    David Allan</td>\n",
       "      <td> 205</td>\n",
       "      <td> 75</td>\n",
       "      <td> R</td>\n",
       "      <td> R</td>\n",
       "      <td> 2004-04-06</td>\n",
       "      <td> 2013-09-28</td>\n",
       "      <td> aardd001</td>\n",
       "      <td> aardsda01</td>\n",
       "    </tr>\n",
       "    <tr>\n",
       "      <th>1</th>\n",
       "      <td> aaronha01</td>\n",
       "      <td> 1934</td>\n",
       "      <td>  2</td>\n",
       "      <td>  5</td>\n",
       "      <td> USA</td>\n",
       "      <td> AL</td>\n",
       "      <td>     Mobile</td>\n",
       "      <td>  NaN</td>\n",
       "      <td>NaN</td>\n",
       "      <td>NaN</td>\n",
       "      <td>...</td>\n",
       "      <td>   Aaron</td>\n",
       "      <td>    Henry Louis</td>\n",
       "      <td> 180</td>\n",
       "      <td> 72</td>\n",
       "      <td> R</td>\n",
       "      <td> R</td>\n",
       "      <td> 1954-04-13</td>\n",
       "      <td> 1976-10-03</td>\n",
       "      <td> aaroh101</td>\n",
       "      <td> aaronha01</td>\n",
       "    </tr>\n",
       "    <tr>\n",
       "      <th>2</th>\n",
       "      <td> aaronto01</td>\n",
       "      <td> 1939</td>\n",
       "      <td>  8</td>\n",
       "      <td>  5</td>\n",
       "      <td> USA</td>\n",
       "      <td> AL</td>\n",
       "      <td>     Mobile</td>\n",
       "      <td> 1984</td>\n",
       "      <td>  8</td>\n",
       "      <td> 16</td>\n",
       "      <td>...</td>\n",
       "      <td>   Aaron</td>\n",
       "      <td>     Tommie Lee</td>\n",
       "      <td> 190</td>\n",
       "      <td> 75</td>\n",
       "      <td> R</td>\n",
       "      <td> R</td>\n",
       "      <td> 1962-04-10</td>\n",
       "      <td> 1971-09-26</td>\n",
       "      <td> aarot101</td>\n",
       "      <td> aaronto01</td>\n",
       "    </tr>\n",
       "    <tr>\n",
       "      <th>3</th>\n",
       "      <td>  aasedo01</td>\n",
       "      <td> 1954</td>\n",
       "      <td>  9</td>\n",
       "      <td>  8</td>\n",
       "      <td> USA</td>\n",
       "      <td> CA</td>\n",
       "      <td>     Orange</td>\n",
       "      <td>  NaN</td>\n",
       "      <td>NaN</td>\n",
       "      <td>NaN</td>\n",
       "      <td>...</td>\n",
       "      <td>    Aase</td>\n",
       "      <td> Donald William</td>\n",
       "      <td> 190</td>\n",
       "      <td> 75</td>\n",
       "      <td> R</td>\n",
       "      <td> R</td>\n",
       "      <td> 1977-07-26</td>\n",
       "      <td> 1990-10-03</td>\n",
       "      <td> aased001</td>\n",
       "      <td>  aasedo01</td>\n",
       "    </tr>\n",
       "    <tr>\n",
       "      <th>4</th>\n",
       "      <td>  abadan01</td>\n",
       "      <td> 1972</td>\n",
       "      <td>  8</td>\n",
       "      <td> 25</td>\n",
       "      <td> USA</td>\n",
       "      <td> FL</td>\n",
       "      <td> Palm Beach</td>\n",
       "      <td>  NaN</td>\n",
       "      <td>NaN</td>\n",
       "      <td>NaN</td>\n",
       "      <td>...</td>\n",
       "      <td>    Abad</td>\n",
       "      <td>  Fausto Andres</td>\n",
       "      <td> 184</td>\n",
       "      <td> 73</td>\n",
       "      <td> L</td>\n",
       "      <td> L</td>\n",
       "      <td> 2001-09-10</td>\n",
       "      <td> 2006-04-13</td>\n",
       "      <td> abada001</td>\n",
       "      <td>  abadan01</td>\n",
       "    </tr>\n",
       "  </tbody>\n",
       "</table>\n",
       "<p>5 rows × 24 columns</p>\n",
       "</div>"
      ],
      "text/plain": [
       "          0     1   2   3    4   5           6     7   8   9     ...      \\\n",
       "0  aardsda01  1981  12  27  USA  CO      Denver   NaN NaN NaN    ...       \n",
       "1  aaronha01  1934   2   5  USA  AL      Mobile   NaN NaN NaN    ...       \n",
       "2  aaronto01  1939   8   5  USA  AL      Mobile  1984   8  16    ...       \n",
       "3   aasedo01  1954   9   8  USA  CA      Orange   NaN NaN NaN    ...       \n",
       "4   abadan01  1972   8  25  USA  FL  Palm Beach   NaN NaN NaN    ...       \n",
       "\n",
       "        14              15   16  17 18 19          20          21        22  \\\n",
       "0  Aardsma     David Allan  205  75  R  R  2004-04-06  2013-09-28  aardd001   \n",
       "1    Aaron     Henry Louis  180  72  R  R  1954-04-13  1976-10-03  aaroh101   \n",
       "2    Aaron      Tommie Lee  190  75  R  R  1962-04-10  1971-09-26  aarot101   \n",
       "3     Aase  Donald William  190  75  R  R  1977-07-26  1990-10-03  aased001   \n",
       "4     Abad   Fausto Andres  184  73  L  L  2001-09-10  2006-04-13  abada001   \n",
       "\n",
       "          23  \n",
       "0  aardsda01  \n",
       "1  aaronha01  \n",
       "2  aaronto01  \n",
       "3   aasedo01  \n",
       "4   abadan01  \n",
       "\n",
       "[5 rows x 24 columns]"
      ]
     },
     "execution_count": 20,
     "metadata": {},
     "output_type": "execute_result"
    }
   ],
   "source": [
    "cur = conn.cursor()\n",
    "cur.execute(\"select * from master limit 5\")\n",
    "pd.DataFrame(cur.fetchall())"
   ]
  },
  {
   "cell_type": "code",
   "execution_count": 21,
   "metadata": {
    "collapsed": false
   },
   "outputs": [
    {
     "data": {
      "text/plain": [
       "[Row(tableName=u'master', isTemporary=False),\n",
       " Row(tableName=u'salaries', isTemporary=False)]"
      ]
     },
     "execution_count": 21,
     "metadata": {},
     "output_type": "execute_result"
    }
   ],
   "source": [
    "from pyspark.sql import HiveContext\n",
    "sqlContext2 = HiveContext(sc)\n",
    "sqlContext2.sql(\"show tables\").collect()"
   ]
  },
  {
   "cell_type": "code",
   "execution_count": 22,
   "metadata": {
    "collapsed": false
   },
   "outputs": [
    {
     "data": {
      "text/plain": [
       "[Row(col_name=u'playerid', data_type=u'string', comment=None),\n",
       " Row(col_name=u'birthyear', data_type=u'int', comment=None),\n",
       " Row(col_name=u'birthmonth', data_type=u'int', comment=None),\n",
       " Row(col_name=u'birthday', data_type=u'int', comment=None),\n",
       " Row(col_name=u'birthcountry', data_type=u'string', comment=None),\n",
       " Row(col_name=u'birthstate', data_type=u'string', comment=None),\n",
       " Row(col_name=u'birthcity', data_type=u'string', comment=None),\n",
       " Row(col_name=u'deathyear', data_type=u'int', comment=None),\n",
       " Row(col_name=u'deathmonth', data_type=u'int', comment=None),\n",
       " Row(col_name=u'deathday', data_type=u'int', comment=None),\n",
       " Row(col_name=u'deathcountry', data_type=u'string', comment=None),\n",
       " Row(col_name=u'deathstate', data_type=u'string', comment=None),\n",
       " Row(col_name=u'deathcity', data_type=u'string', comment=None),\n",
       " Row(col_name=u'namefirst', data_type=u'string', comment=None),\n",
       " Row(col_name=u'namelast', data_type=u'string', comment=None),\n",
       " Row(col_name=u'namegiven', data_type=u'string', comment=None),\n",
       " Row(col_name=u'weight', data_type=u'int', comment=None),\n",
       " Row(col_name=u'height', data_type=u'int', comment=None),\n",
       " Row(col_name=u'bats', data_type=u'string', comment=None),\n",
       " Row(col_name=u'throws', data_type=u'string', comment=None),\n",
       " Row(col_name=u'debut', data_type=u'string', comment=None),\n",
       " Row(col_name=u'finalgame', data_type=u'string', comment=None),\n",
       " Row(col_name=u'retroid', data_type=u'string', comment=None),\n",
       " Row(col_name=u'bbrefid', data_type=u'string', comment=None)]"
      ]
     },
     "execution_count": 22,
     "metadata": {},
     "output_type": "execute_result"
    }
   ],
   "source": [
    "sqlContext2.sql(\"DESCRIBE Master\").collect()"
   ]
  },
  {
   "cell_type": "markdown",
   "metadata": {
    "collapsed": true
   },
   "source": [
    "### not supported"
   ]
  },
  {
   "cell_type": "code",
   "execution_count": 23,
   "metadata": {
    "collapsed": false
   },
   "outputs": [
    {
     "ename": "Py4JJavaError",
     "evalue": "An error occurred while calling o71.load.\n: java.sql.SQLException: Method not supported\n\tat org.apache.hive.jdbc.HiveResultSetMetaData.isSigned(HiveResultSetMetaData.java:143)\n\tat org.apache.spark.sql.execution.datasources.jdbc.JDBCRDD$.resolveTable(JDBCRDD.scala:135)\n\tat org.apache.spark.sql.execution.datasources.jdbc.JDBCRelation.<init>(JDBCRelation.scala:91)\n\tat org.apache.spark.sql.execution.datasources.jdbc.DefaultSource.createRelation(DefaultSource.scala:60)\n\tat org.apache.spark.sql.execution.datasources.ResolvedDataSource$.apply(ResolvedDataSource.scala:125)\n\tat org.apache.spark.sql.DataFrameReader.load(DataFrameReader.scala:114)\n\tat sun.reflect.NativeMethodAccessorImpl.invoke0(Native Method)\n\tat sun.reflect.NativeMethodAccessorImpl.invoke(NativeMethodAccessorImpl.java:57)\n\tat sun.reflect.DelegatingMethodAccessorImpl.invoke(DelegatingMethodAccessorImpl.java:43)\n\tat java.lang.reflect.Method.invoke(Method.java:606)\n\tat py4j.reflection.MethodInvoker.invoke(MethodInvoker.java:231)\n\tat py4j.reflection.ReflectionEngine.invoke(ReflectionEngine.java:379)\n\tat py4j.Gateway.invoke(Gateway.java:259)\n\tat py4j.commands.AbstractCommand.invokeMethod(AbstractCommand.java:133)\n\tat py4j.commands.CallCommand.execute(CallCommand.java:79)\n\tat py4j.GatewayConnection.run(GatewayConnection.java:207)\n\tat java.lang.Thread.run(Thread.java:745)\n",
     "output_type": "error",
     "traceback": [
      "\u001b[1;31m---------------------------------------------------------------------------\u001b[0m",
      "\u001b[1;31mPy4JJavaError\u001b[0m                             Traceback (most recent call last)",
      "\u001b[1;32m<ipython-input-23-51f8e8812f58>\u001b[0m in \u001b[0;36m<module>\u001b[1;34m()\u001b[0m\n\u001b[1;32m----> 1\u001b[1;33m \u001b[0msqlContext\u001b[0m\u001b[1;33m.\u001b[0m\u001b[0mread\u001b[0m\u001b[1;33m.\u001b[0m\u001b[0mformat\u001b[0m\u001b[1;33m(\u001b[0m\u001b[1;34m'jdbc'\u001b[0m\u001b[1;33m)\u001b[0m\u001b[1;33m.\u001b[0m\u001b[0moptions\u001b[0m\u001b[1;33m(\u001b[0m\u001b[0msource\u001b[0m\u001b[1;33m=\u001b[0m\u001b[1;34m\"jdbc\"\u001b[0m\u001b[1;33m,\u001b[0m\u001b[0mdriver\u001b[0m\u001b[1;33m=\u001b[0m\u001b[1;34m\"org.apache.hive.jdbc.HiveDriver\"\u001b[0m\u001b[1;33m,\u001b[0m\u001b[0murl\u001b[0m\u001b[1;33m=\u001b[0m\u001b[1;34m'jdbc:hive2://localhost:10000/default?user=nasdag&password='\u001b[0m\u001b[1;33m,\u001b[0m \u001b[0mdbtable\u001b[0m\u001b[1;33m=\u001b[0m\u001b[1;34m'master'\u001b[0m\u001b[1;33m)\u001b[0m\u001b[1;33m.\u001b[0m\u001b[0mload\u001b[0m\u001b[1;33m(\u001b[0m\u001b[1;33m)\u001b[0m\u001b[1;33m\u001b[0m\u001b[0m\n\u001b[0m",
      "\u001b[1;32m/usr/local/share/spark-1.5.2/python/pyspark/sql/readwriter.py\u001b[0m in \u001b[0;36mload\u001b[1;34m(self, path, format, schema, **options)\u001b[0m\n\u001b[0;32m    121\u001b[0m             \u001b[1;32mreturn\u001b[0m \u001b[0mself\u001b[0m\u001b[1;33m.\u001b[0m\u001b[0m_df\u001b[0m\u001b[1;33m(\u001b[0m\u001b[0mself\u001b[0m\u001b[1;33m.\u001b[0m\u001b[0m_jreader\u001b[0m\u001b[1;33m.\u001b[0m\u001b[0mload\u001b[0m\u001b[1;33m(\u001b[0m\u001b[0mpath\u001b[0m\u001b[1;33m)\u001b[0m\u001b[1;33m)\u001b[0m\u001b[1;33m\u001b[0m\u001b[0m\n\u001b[0;32m    122\u001b[0m         \u001b[1;32melse\u001b[0m\u001b[1;33m:\u001b[0m\u001b[1;33m\u001b[0m\u001b[0m\n\u001b[1;32m--> 123\u001b[1;33m             \u001b[1;32mreturn\u001b[0m \u001b[0mself\u001b[0m\u001b[1;33m.\u001b[0m\u001b[0m_df\u001b[0m\u001b[1;33m(\u001b[0m\u001b[0mself\u001b[0m\u001b[1;33m.\u001b[0m\u001b[0m_jreader\u001b[0m\u001b[1;33m.\u001b[0m\u001b[0mload\u001b[0m\u001b[1;33m(\u001b[0m\u001b[1;33m)\u001b[0m\u001b[1;33m)\u001b[0m\u001b[1;33m\u001b[0m\u001b[0m\n\u001b[0m\u001b[0;32m    124\u001b[0m \u001b[1;33m\u001b[0m\u001b[0m\n\u001b[0;32m    125\u001b[0m     \u001b[1;33m@\u001b[0m\u001b[0msince\u001b[0m\u001b[1;33m(\u001b[0m\u001b[1;36m1.4\u001b[0m\u001b[1;33m)\u001b[0m\u001b[1;33m\u001b[0m\u001b[0m\n",
      "\u001b[1;32m/usr/local/share/spark-1.5.2/python/lib/py4j-0.8.2.1-src.zip/py4j/java_gateway.py\u001b[0m in \u001b[0;36m__call__\u001b[1;34m(self, *args)\u001b[0m\n\u001b[0;32m    536\u001b[0m         \u001b[0manswer\u001b[0m \u001b[1;33m=\u001b[0m \u001b[0mself\u001b[0m\u001b[1;33m.\u001b[0m\u001b[0mgateway_client\u001b[0m\u001b[1;33m.\u001b[0m\u001b[0msend_command\u001b[0m\u001b[1;33m(\u001b[0m\u001b[0mcommand\u001b[0m\u001b[1;33m)\u001b[0m\u001b[1;33m\u001b[0m\u001b[0m\n\u001b[0;32m    537\u001b[0m         return_value = get_return_value(answer, self.gateway_client,\n\u001b[1;32m--> 538\u001b[1;33m                 self.target_id, self.name)\n\u001b[0m\u001b[0;32m    539\u001b[0m \u001b[1;33m\u001b[0m\u001b[0m\n\u001b[0;32m    540\u001b[0m         \u001b[1;32mfor\u001b[0m \u001b[0mtemp_arg\u001b[0m \u001b[1;32min\u001b[0m \u001b[0mtemp_args\u001b[0m\u001b[1;33m:\u001b[0m\u001b[1;33m\u001b[0m\u001b[0m\n",
      "\u001b[1;32m/usr/local/share/spark-1.5.2/python/pyspark/sql/utils.py\u001b[0m in \u001b[0;36mdeco\u001b[1;34m(*a, **kw)\u001b[0m\n\u001b[0;32m     34\u001b[0m     \u001b[1;32mdef\u001b[0m \u001b[0mdeco\u001b[0m\u001b[1;33m(\u001b[0m\u001b[1;33m*\u001b[0m\u001b[0ma\u001b[0m\u001b[1;33m,\u001b[0m \u001b[1;33m**\u001b[0m\u001b[0mkw\u001b[0m\u001b[1;33m)\u001b[0m\u001b[1;33m:\u001b[0m\u001b[1;33m\u001b[0m\u001b[0m\n\u001b[0;32m     35\u001b[0m         \u001b[1;32mtry\u001b[0m\u001b[1;33m:\u001b[0m\u001b[1;33m\u001b[0m\u001b[0m\n\u001b[1;32m---> 36\u001b[1;33m             \u001b[1;32mreturn\u001b[0m \u001b[0mf\u001b[0m\u001b[1;33m(\u001b[0m\u001b[1;33m*\u001b[0m\u001b[0ma\u001b[0m\u001b[1;33m,\u001b[0m \u001b[1;33m**\u001b[0m\u001b[0mkw\u001b[0m\u001b[1;33m)\u001b[0m\u001b[1;33m\u001b[0m\u001b[0m\n\u001b[0m\u001b[0;32m     37\u001b[0m         \u001b[1;32mexcept\u001b[0m \u001b[0mpy4j\u001b[0m\u001b[1;33m.\u001b[0m\u001b[0mprotocol\u001b[0m\u001b[1;33m.\u001b[0m\u001b[0mPy4JJavaError\u001b[0m \u001b[1;32mas\u001b[0m \u001b[0me\u001b[0m\u001b[1;33m:\u001b[0m\u001b[1;33m\u001b[0m\u001b[0m\n\u001b[0;32m     38\u001b[0m             \u001b[0ms\u001b[0m \u001b[1;33m=\u001b[0m \u001b[0me\u001b[0m\u001b[1;33m.\u001b[0m\u001b[0mjava_exception\u001b[0m\u001b[1;33m.\u001b[0m\u001b[0mtoString\u001b[0m\u001b[1;33m(\u001b[0m\u001b[1;33m)\u001b[0m\u001b[1;33m\u001b[0m\u001b[0m\n",
      "\u001b[1;32m/usr/local/share/spark-1.5.2/python/lib/py4j-0.8.2.1-src.zip/py4j/protocol.py\u001b[0m in \u001b[0;36mget_return_value\u001b[1;34m(answer, gateway_client, target_id, name)\u001b[0m\n\u001b[0;32m    298\u001b[0m                 raise Py4JJavaError(\n\u001b[0;32m    299\u001b[0m                     \u001b[1;34m'An error occurred while calling {0}{1}{2}.\\n'\u001b[0m\u001b[1;33m.\u001b[0m\u001b[1;33m\u001b[0m\u001b[0m\n\u001b[1;32m--> 300\u001b[1;33m                     format(target_id, '.', name), value)\n\u001b[0m\u001b[0;32m    301\u001b[0m             \u001b[1;32melse\u001b[0m\u001b[1;33m:\u001b[0m\u001b[1;33m\u001b[0m\u001b[0m\n\u001b[0;32m    302\u001b[0m                 raise Py4JError(\n",
      "\u001b[1;31mPy4JJavaError\u001b[0m: An error occurred while calling o71.load.\n: java.sql.SQLException: Method not supported\n\tat org.apache.hive.jdbc.HiveResultSetMetaData.isSigned(HiveResultSetMetaData.java:143)\n\tat org.apache.spark.sql.execution.datasources.jdbc.JDBCRDD$.resolveTable(JDBCRDD.scala:135)\n\tat org.apache.spark.sql.execution.datasources.jdbc.JDBCRelation.<init>(JDBCRelation.scala:91)\n\tat org.apache.spark.sql.execution.datasources.jdbc.DefaultSource.createRelation(DefaultSource.scala:60)\n\tat org.apache.spark.sql.execution.datasources.ResolvedDataSource$.apply(ResolvedDataSource.scala:125)\n\tat org.apache.spark.sql.DataFrameReader.load(DataFrameReader.scala:114)\n\tat sun.reflect.NativeMethodAccessorImpl.invoke0(Native Method)\n\tat sun.reflect.NativeMethodAccessorImpl.invoke(NativeMethodAccessorImpl.java:57)\n\tat sun.reflect.DelegatingMethodAccessorImpl.invoke(DelegatingMethodAccessorImpl.java:43)\n\tat java.lang.reflect.Method.invoke(Method.java:606)\n\tat py4j.reflection.MethodInvoker.invoke(MethodInvoker.java:231)\n\tat py4j.reflection.ReflectionEngine.invoke(ReflectionEngine.java:379)\n\tat py4j.Gateway.invoke(Gateway.java:259)\n\tat py4j.commands.AbstractCommand.invokeMethod(AbstractCommand.java:133)\n\tat py4j.commands.CallCommand.execute(CallCommand.java:79)\n\tat py4j.GatewayConnection.run(GatewayConnection.java:207)\n\tat java.lang.Thread.run(Thread.java:745)\n"
     ]
    }
   ],
   "source": [
    "sqlContext.read.format('jdbc').options(source=\"jdbc\",driver=\"org.apache.hive.jdbc.HiveDriver\",url='jdbc:hive2://localhost:10000/default?user=nasdag&password=', dbtable='master').load()"
   ]
  },
  {
   "cell_type": "code",
   "execution_count": 24,
   "metadata": {
    "collapsed": false
   },
   "outputs": [],
   "source": [
    "sc.stop()"
   ]
  },
  {
   "cell_type": "code",
   "execution_count": null,
   "metadata": {
    "collapsed": true
   },
   "outputs": [],
   "source": []
  }
 ],
 "metadata": {
  "kernelspec": {
   "display_name": "Python 2",
   "language": "python",
   "name": "python2"
  },
  "language_info": {
   "codemirror_mode": {
    "name": "ipython",
    "version": 2
   },
   "file_extension": ".py",
   "mimetype": "text/x-python",
   "name": "python",
   "nbconvert_exporter": "python",
   "pygments_lexer": "ipython2",
   "version": "2.7.10"
  }
 },
 "nbformat": 4,
 "nbformat_minor": 0
}
